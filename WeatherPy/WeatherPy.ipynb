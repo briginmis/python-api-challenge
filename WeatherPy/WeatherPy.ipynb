{
 "cells": [
  {
   "cell_type": "markdown",
   "metadata": {},
   "source": [
    "# WeatherPy\n",
    "----\n",
    "\n",
    "#### Note\n",
    "* Instructions have been included for each segment. You do not have to follow them exactly, but they are included to help you think through the steps."
   ]
  },
  {
   "cell_type": "code",
   "execution_count": 33,
   "metadata": {
    "scrolled": true
   },
   "outputs": [],
   "source": [
    "#import dependencies\n",
    "import requests\n",
    "import json\n",
    "import citipy\n",
    "import pandas as pd\n",
    "import matplotlib.pyplot as plt\n",
    "import random\n",
    "from citipy import citipy\n",
    "from pprint import pprint\n",
    "from config import weather_api_key"
   ]
  },
  {
   "cell_type": "code",
   "execution_count": null,
   "metadata": {},
   "outputs": [],
   "source": [
    "#state number of samples and create list of cities\n",
    "samples = 2000\n",
    "cities = []\n",
    "\n",
    "#iterate through sample size, and obtain city name from random latitude and longitude\n",
    "for numbers in range(0,samples):\n",
    "    latitude = round(random.uniform(-90, 90),2)\n",
    "    longitude = round(random.uniform(-180,80),2)\n",
    "    city = citipy.nearest_city(latitude, longitude)\n",
    "    if city.city_name not in cities:\n",
    "        cities.append(city.city_name)"
   ]
  },
  {
   "cell_type": "markdown",
   "metadata": {},
   "source": [
    "## Generate Cities List"
   ]
  },
  {
   "cell_type": "code",
   "execution_count": 5,
   "metadata": {},
   "outputs": [
    {
     "data": {
      "text/plain": [
       "671"
      ]
     },
     "execution_count": 5,
     "metadata": {},
     "output_type": "execute_result"
    }
   ],
   "source": [
    "#check number of cities obtained\n",
    "len(cities)"
   ]
  },
  {
   "cell_type": "code",
   "execution_count": 3,
   "metadata": {},
   "outputs": [
    {
     "data": {
      "text/html": [
       "<div>\n",
       "<style scoped>\n",
       "    .dataframe tbody tr th:only-of-type {\n",
       "        vertical-align: middle;\n",
       "    }\n",
       "\n",
       "    .dataframe tbody tr th {\n",
       "        vertical-align: top;\n",
       "    }\n",
       "\n",
       "    .dataframe thead th {\n",
       "        text-align: right;\n",
       "    }\n",
       "</style>\n",
       "<table border=\"1\" class=\"dataframe\">\n",
       "  <thead>\n",
       "    <tr style=\"text-align: right;\">\n",
       "      <th></th>\n",
       "      <th>City</th>\n",
       "      <th>Country</th>\n",
       "      <th>Datetime</th>\n",
       "      <th>Latitude</th>\n",
       "      <th>Longitude</th>\n",
       "      <th>Max temperature (c)</th>\n",
       "      <th>Humidity (%)</th>\n",
       "      <th>Cloudiness (%)</th>\n",
       "      <th>Wind Speed (mps)</th>\n",
       "    </tr>\n",
       "  </thead>\n",
       "  <tbody>\n",
       "    <tr>\n",
       "      <th>0</th>\n",
       "      <td>ouesso</td>\n",
       "      <td></td>\n",
       "      <td></td>\n",
       "      <td></td>\n",
       "      <td></td>\n",
       "      <td></td>\n",
       "      <td></td>\n",
       "      <td></td>\n",
       "      <td></td>\n",
       "    </tr>\n",
       "    <tr>\n",
       "      <th>1</th>\n",
       "      <td>laguna</td>\n",
       "      <td></td>\n",
       "      <td></td>\n",
       "      <td></td>\n",
       "      <td></td>\n",
       "      <td></td>\n",
       "      <td></td>\n",
       "      <td></td>\n",
       "      <td></td>\n",
       "    </tr>\n",
       "    <tr>\n",
       "      <th>2</th>\n",
       "      <td>guerrero negro</td>\n",
       "      <td></td>\n",
       "      <td></td>\n",
       "      <td></td>\n",
       "      <td></td>\n",
       "      <td></td>\n",
       "      <td></td>\n",
       "      <td></td>\n",
       "      <td></td>\n",
       "    </tr>\n",
       "    <tr>\n",
       "      <th>3</th>\n",
       "      <td>victoria</td>\n",
       "      <td></td>\n",
       "      <td></td>\n",
       "      <td></td>\n",
       "      <td></td>\n",
       "      <td></td>\n",
       "      <td></td>\n",
       "      <td></td>\n",
       "      <td></td>\n",
       "    </tr>\n",
       "    <tr>\n",
       "      <th>4</th>\n",
       "      <td>mataura</td>\n",
       "      <td></td>\n",
       "      <td></td>\n",
       "      <td></td>\n",
       "      <td></td>\n",
       "      <td></td>\n",
       "      <td></td>\n",
       "      <td></td>\n",
       "      <td></td>\n",
       "    </tr>\n",
       "    <tr>\n",
       "      <th>...</th>\n",
       "      <td>...</td>\n",
       "      <td>...</td>\n",
       "      <td>...</td>\n",
       "      <td>...</td>\n",
       "      <td>...</td>\n",
       "      <td>...</td>\n",
       "      <td>...</td>\n",
       "      <td>...</td>\n",
       "      <td>...</td>\n",
       "    </tr>\n",
       "    <tr>\n",
       "      <th>696</th>\n",
       "      <td>dolores</td>\n",
       "      <td></td>\n",
       "      <td></td>\n",
       "      <td></td>\n",
       "      <td></td>\n",
       "      <td></td>\n",
       "      <td></td>\n",
       "      <td></td>\n",
       "      <td></td>\n",
       "    </tr>\n",
       "    <tr>\n",
       "      <th>697</th>\n",
       "      <td>bajil</td>\n",
       "      <td></td>\n",
       "      <td></td>\n",
       "      <td></td>\n",
       "      <td></td>\n",
       "      <td></td>\n",
       "      <td></td>\n",
       "      <td></td>\n",
       "      <td></td>\n",
       "    </tr>\n",
       "    <tr>\n",
       "      <th>698</th>\n",
       "      <td>staryy nadym</td>\n",
       "      <td></td>\n",
       "      <td></td>\n",
       "      <td></td>\n",
       "      <td></td>\n",
       "      <td></td>\n",
       "      <td></td>\n",
       "      <td></td>\n",
       "      <td></td>\n",
       "    </tr>\n",
       "    <tr>\n",
       "      <th>699</th>\n",
       "      <td>monrovia</td>\n",
       "      <td></td>\n",
       "      <td></td>\n",
       "      <td></td>\n",
       "      <td></td>\n",
       "      <td></td>\n",
       "      <td></td>\n",
       "      <td></td>\n",
       "      <td></td>\n",
       "    </tr>\n",
       "    <tr>\n",
       "      <th>700</th>\n",
       "      <td>buqayq</td>\n",
       "      <td></td>\n",
       "      <td></td>\n",
       "      <td></td>\n",
       "      <td></td>\n",
       "      <td></td>\n",
       "      <td></td>\n",
       "      <td></td>\n",
       "      <td></td>\n",
       "    </tr>\n",
       "  </tbody>\n",
       "</table>\n",
       "<p>701 rows × 9 columns</p>\n",
       "</div>"
      ],
      "text/plain": [
       "               City Country Datetime Latitude Longitude Max temperature (c)  \\\n",
       "0            ouesso                                                           \n",
       "1            laguna                                                           \n",
       "2    guerrero negro                                                           \n",
       "3          victoria                                                           \n",
       "4           mataura                                                           \n",
       "..              ...     ...      ...      ...       ...                 ...   \n",
       "696         dolores                                                           \n",
       "697           bajil                                                           \n",
       "698    staryy nadym                                                           \n",
       "699        monrovia                                                           \n",
       "700          buqayq                                                           \n",
       "\n",
       "    Humidity (%) Cloudiness (%) Wind Speed (mps)  \n",
       "0                                                 \n",
       "1                                                 \n",
       "2                                                 \n",
       "3                                                 \n",
       "4                                                 \n",
       "..           ...            ...              ...  \n",
       "696                                               \n",
       "697                                               \n",
       "698                                               \n",
       "699                                               \n",
       "700                                               \n",
       "\n",
       "[701 rows x 9 columns]"
      ]
     },
     "execution_count": 3,
     "metadata": {},
     "output_type": "execute_result"
    }
   ],
   "source": [
    "#remove duplicate cities and create dataframe\n",
    "cities_df = pd.DataFrame(cities, index = range(0,len(cities)))\n",
    "cities_df = cities_df.rename(columns={0:\"City\"})\n",
    "cities_df[\"Country\"] = \" \"\n",
    "cities_df[\"Datetime\"] = \" \"\n",
    "cities_df[\"Latitude\"] = \" \"\n",
    "cities_df[\"Longitude\"] = \" \"\n",
    "cities_df[\"Max temperature (c)\"] = \" \"\n",
    "cities_df[\"Humidity (%)\"] = \" \"\n",
    "cities_df[\"Cloudiness (%)\"] = \" \"\n",
    "cities_df[\"Wind Speed (mps)\"] = \" \"\n",
    "cities_df"
   ]
  },
  {
   "cell_type": "markdown",
   "metadata": {},
   "source": [
    "### Perform API Calls\n",
    "* Perform a weather check on each city using a series of successive API calls.\n",
    "* Include a print log of each city as it'sbeing processed (with the city number and city name).\n"
   ]
  },
  {
   "cell_type": "code",
   "execution_count": 4,
   "metadata": {
    "scrolled": true
   },
   "outputs": [
    {
     "name": "stdout",
     "output_type": "stream",
     "text": [
      "Processing record 0. City number: 2255564. City name: Ouésso\n",
      "Processing record 1. City number: 5364271. City name: Laguna\n",
      "Processing record 2. City number: 4021858. City name: Guerrero Negro\n",
      "Processing record 3. City number: 1819729. City name: Hong Kong\n",
      "Processing record 4. City number: 6201424. City name: Mataura\n",
      "Processing record 5. City number: 3874787. City name: Punta Arenas\n",
      "Processing record 6. City number: 3372760. City name: Praia da Vitória\n",
      "Processing record 7. City number: 3671437. City name: Caucayá\n",
      "Processing record 8. City number: 3985710. City name: Cabo San Lucas\n",
      "Processing record 9. City number: 3652764. City name: Puerto Ayora\n",
      "No data could be obtained for city: sorvag\n",
      "Processing record 11. City number: 3465881. City name: Colorado\n",
      "Processing record 12. City number: 3833367. City name: Ushuaia\n",
      "Processing record 13. City number: 3393115. City name: Paracuru\n",
      "Processing record 14. City number: 3369157. City name: Cape Town\n",
      "No data could be obtained for city: vaitupu\n",
      "Processing record 16. City number: 3454783. City name: Patos de Minas\n",
      "Processing record 17. City number: 2297810. City name: Mumford\n",
      "Processing record 18. City number: 5122534. City name: Jamestown\n",
      "Processing record 19. City number: 3388847. City name: São Félix do Xingu\n",
      "Processing record 20. City number: 5855927. City name: Hilo\n",
      "Processing record 21. City number: 1282256. City name: Hithadhoo\n",
      "Processing record 22. City number: 3380290. City name: Sinnamary\n",
      "Processing record 23. City number: 3637623. City name: Lagunillas\n",
      "Processing record 24. City number: 3418910. City name: Upernavik\n",
      "Processing record 25. City number: 4034551. City name: Faanui\n",
      "No data could be obtained for city: taolanaro\n",
      "Processing record 27. City number: 4035715. City name: Avarua\n",
      "Processing record 28. City number: 4030556. City name: Rikitea\n",
      "Processing record 29. City number: 1684803. City name: Tabuk\n",
      "Processing record 30. City number: 1495480. City name: Pavlogradka\n",
      "Processing record 31. City number: 3430863. City name: Mar del Plata\n",
      "Processing record 32. City number: 161901. City name: Kaka\n",
      "Processing record 33. City number: 3372707. City name: Ribeira Grande\n",
      "Processing record 34. City number: 456827. City name: Pāvilosta\n",
      "Processing record 35. City number: 5654391. City name: Glendive\n",
      "Processing record 36. City number: 1272140. City name: Dwārka\n",
      "Processing record 37. City number: 6185377. City name: Yellowknife\n",
      "Processing record 38. City number: 1267390. City name: Kavaratti\n",
      "Processing record 39. City number: 933995. City name: Souillac\n",
      "Processing record 40. City number: 2519277. City name: Consuegra\n",
      "Processing record 41. City number: 6121621. City name: Revelstoke\n",
      "Processing record 42. City number: 6170031. City name: Tuktoyaktuk\n",
      "Processing record 43. City number: 3466165. City name: Cidreira\n",
      "Processing record 44. City number: 4020109. City name: Atuona\n",
      "Processing record 45. City number: 2294915. City name: Takoradze\n",
      "Processing record 46. City number: 1507390. City name: Dikson\n",
      "Processing record 47. City number: 1735106. City name: George Town\n",
      "Processing record 48. City number: 3355672. City name: Lüderitz\n",
      "Processing record 49. City number: 5880054. City name: Barrow\n",
      "Processing record 50. City number: 5859699. City name: College\n",
      "Processing record 51. City number: 5367788. City name: Lompoc\n",
      "Processing record 52. City number: 6167817. City name: Torbay\n",
      "Processing record 53. City number: 5380437. City name: Pacific Grove\n",
      "Processing record 54. City number: 4032243. City name: Vaini\n",
      "Processing record 55. City number: 964432. City name: Port Alfred\n",
      "Processing record 56. City number: 2075265. City name: Busselton\n",
      "No data could be obtained for city: illoqqortoormiut\n",
      "Processing record 58. City number: 7626348. City name: Svarstad\n",
      "Processing record 59. City number: 3471451. City name: Arraial do Cabo\n",
      "Processing record 60. City number: 935215. City name: Saint-Philippe\n",
      "Processing record 61. City number: 2309528. City name: Luba\n",
      "Processing record 62. City number: 4944903. City name: Nantucket\n",
      "Processing record 63. City number: 928534. City name: Kasungu\n",
      "Processing record 64. City number: 3366880. City name: Hermanus\n",
      "Processing record 65. City number: 6089245. City name: Norman Wells\n",
      "Processing record 66. City number: 5866583. City name: Saint Paul Harbor\n",
      "Processing record 67. City number: 3403344. City name: Canindé de São Francisco\n",
      "No data could be obtained for city: barentsburg\n",
      "No data could be obtained for city: grand river south east\n",
      "Processing record 70. City number: 3448455. City name: São Miguel do Araguaia\n",
      "Processing record 71. City number: 1106677. City name: Bambous Virieux\n",
      "Processing record 72. City number: 3374083. City name: Bathsheba\n",
      "Processing record 73. City number: 2381334. City name: Atar\n",
      "Processing record 74. City number: 1045114. City name: Inhambane\n",
      "Processing record 75. City number: 3461879. City name: Guarapuava\n",
      "No data could be obtained for city: karkaralinsk\n",
      "Processing record 77. City number: 1260107. City name: Patiāla\n",
      "Processing record 78. City number: 3831208. City name: Qaanaaq\n",
      "Processing record 79. City number: 605155. City name: Kiruna\n",
      "Processing record 80. City number: 2219235. City name: Ubari\n",
      "Processing record 81. City number: 1015776. City name: Bredasdorp\n",
      "Processing record 82. City number: 3692073. City name: Santiago de Cao\n",
      "Processing record 83. City number: 2264557. City name: Ponta do Sol\n",
      "Processing record 84. City number: 1489057. City name: Tugulym\n",
      "Processing record 85. City number: 5882953. City name: Aklavik\n",
      "Processing record 86. City number: 964420. City name: Port Elizabeth\n",
      "Processing record 87. City number: 1261647. City name: Nāwa\n",
      "Processing record 88. City number: 935214. City name: Saint-Pierre\n",
      "Processing record 89. City number: 2640377. City name: Penzance\n",
      "Processing record 90. City number: 3361934. City name: Saldanha\n",
      "Processing record 91. City number: 962367. City name: Richards Bay\n",
      "Processing record 92. City number: 2650833. City name: Dufftown\n",
      "Processing record 93. City number: 3571592. City name: Rock Sound\n",
      "Processing record 94. City number: 1142226. City name: Dawlatabad\n",
      "Processing record 95. City number: 2436400. City name: Ati\n",
      "Processing record 96. City number: 5993072. City name: Kitimat\n",
      "Processing record 97. City number: 3579789. City name: Anse-Bertrand\n",
      "Processing record 98. City number: 3664980. City name: Boa Vista\n",
      "Processing record 99. City number: 6167125. City name: Tobermory\n",
      "Processing record 100. City number: 2412408. City name: Nioro\n",
      "Processing record 101. City number: 3531368. City name: Celestún\n",
      "Processing record 102. City number: 3645213. City name: Coro\n",
      "Processing record 103. City number: 3924679. City name: Vilhena\n",
      "Processing record 104. City number: 5392171. City name: San Jose\n",
      "Processing record 105. City number: 607610. City name: Zhangaözen\n",
      "Processing record 106. City number: 4726521. City name: San Patricio\n",
      "Processing record 107. City number: 5848280. City name: Kapaa\n",
      "Processing record 108. City number: 5282297. City name: Bethel\n",
      "Processing record 109. City number: 3489657. City name: Lucea\n",
      "Processing record 110. City number: 3465769. City name: Conceição da Barra\n",
      "Processing record 111. City number: 1004109. City name: Fochville\n",
      "Processing record 112. City number: 4224413. City name: Statesboro\n",
      "Processing record 113. City number: 2729907. City name: Longyearbyen\n",
      "No data could be obtained for city: aflu\n",
      "Processing record 115. City number: 658288. City name: Heinola\n",
      "Processing record 116. City number: 5768244. City name: Rapid Valley\n",
      "Processing record 117. City number: 1519385. City name: Sergeevka\n",
      "Processing record 118. City number: 3456285. City name: Niquelândia\n",
      "Processing record 119. City number: 515805. City name: Oktyabr'skoye\n",
      "Processing record 120. City number: 2992292. City name: Montluçon\n",
      "Processing record 121. City number: 1067565. City name: Beloha\n",
      "Processing record 122. City number: 3466980. City name: Caravelas\n",
      "Processing record 123. City number: 4031574. City name: Provideniya\n",
      "Processing record 124. City number: 3125287. City name: Cervo\n",
      "Processing record 125. City number: 110690. City name: Faya\n",
      "Processing record 126. City number: 545690. City name: Komsomol'skoye\n",
      "No data could be obtained for city: burica\n",
      "Processing record 128. City number: 3406948. City name: Autazes\n"
     ]
    },
    {
     "name": "stdout",
     "output_type": "stream",
     "text": [
      "Processing record 129. City number: 2396853. City name: Omboué\n",
      "Processing record 130. City number: 1701054. City name: Marawi\n",
      "Processing record 131. City number: 330764. City name: Metu\n",
      "Processing record 132. City number: 479871. City name: Tyul'gan\n",
      "No data could be obtained for city: halalo\n",
      "Processing record 134. City number: 3427213. City name: Zárate\n",
      "Processing record 135. City number: 2399371. City name: Makokou\n",
      "Processing record 136. City number: 5826027. City name: Gillette\n",
      "Processing record 137. City number: 6165406. City name: Thompson\n",
      "Processing record 138. City number: 6148373. City name: Sioux Lookout\n",
      "Processing record 139. City number: 934322. City name: Mahébourg\n",
      "Processing record 140. City number: 1519691. City name: Sarkand\n",
      "Processing record 141. City number: 777019. City name: Vardø\n",
      "No data could be obtained for city: amderma\n",
      "Processing record 143. City number: 2343985. City name: Effium\n",
      "No data could be obtained for city: saleaula\n",
      "Processing record 145. City number: 4513583. City name: Hamilton\n",
      "Processing record 146. City number: 3653523. City name: Palora\n",
      "No data could be obtained for city: ikole\n",
      "Processing record 148. City number: 4033557. City name: Tautira\n",
      "Processing record 149. City number: 3441890. City name: Departamento de Maldonado\n",
      "Processing record 150. City number: 3424607. City name: Tasiilaq\n",
      "Processing record 151. City number: 3590547. City name: San Agustín Acasaguastlán\n",
      "Processing record 152. City number: 1714733. City name: Dingle\n",
      "Processing record 153. City number: 2319133. City name: Warri\n",
      "Processing record 154. City number: 5969025. City name: Haines Junction\n",
      "Processing record 155. City number: 552862. City name: Karaidel'\n",
      "Processing record 156. City number: 3393692. City name: Itarema\n",
      "Processing record 157. City number: 467084. City name: Yertsevo\n",
      "Processing record 158. City number: 3131500. City name: Visnes\n",
      "Processing record 159. City number: 3654410. City name: Manta\n",
      "No data could be obtained for city: belushya guba\n",
      "Processing record 161. City number: 3421193. City name: Paamiut\n",
      "Processing record 162. City number: 5554428. City name: Ketchikan\n",
      "No data could be obtained for city: tasbuget\n",
      "Processing record 164. City number: 2304548. City name: Anloga\n",
      "Processing record 165. City number: 363885. City name: Wau\n",
      "Processing record 166. City number: 2477537. City name: Tazmalt\n",
      "Processing record 167. City number: 5847486. City name: Kailua\n",
      "Processing record 168. City number: 5710360. City name: Winnemucca\n",
      "Processing record 169. City number: 4014603. City name: Chalchihuites\n",
      "Processing record 170. City number: 4734350. City name: Stephenville\n",
      "Processing record 171. City number: 3347019. City name: Mossamedes\n",
      "Processing record 172. City number: 3939761. City name: Hualmay\n",
      "Processing record 173. City number: 2553604. City name: Casablanca\n",
      "Processing record 174. City number: 4036284. City name: Alofi\n",
      "Processing record 175. City number: 4034496. City name: Fare\n",
      "Processing record 176. City number: 3386213. City name: Touros\n",
      "Processing record 177. City number: 3466704. City name: Castro\n",
      "Processing record 178. City number: 3461370. City name: Imbituba\n",
      "Processing record 179. City number: 1006984. City name: East London\n",
      "Processing record 180. City number: 3838859. City name: Río Gallegos\n",
      "Processing record 181. City number: 3883457. City name: Lebu\n",
      "Processing record 182. City number: 5962442. City name: Goderich\n",
      "Processing record 183. City number: 578534. City name: Baymak\n",
      "No data could be obtained for city: umm jarr\n",
      "Processing record 185. City number: 4013679. City name: Coahuayana Viejo\n",
      "Processing record 186. City number: 1688781. City name: City of San Pedro\n",
      "Processing record 187. City number: 5870133. City name: Nome\n",
      "Processing record 188. City number: 986717. City name: Kruisfontein\n",
      "Processing record 189. City number: 3372964. City name: Lagoa\n",
      "Processing record 190. City number: 3460813. City name: Itambé\n",
      "Processing record 191. City number: 218229. City name: Bongandanga\n",
      "Processing record 192. City number: 3443061. City name: Chui\n",
      "No data could be obtained for city: mys shmidta\n",
      "Processing record 194. City number: 3406318. City name: Barra do Corda\n",
      "Processing record 195. City number: 352733. City name: Marsá Maţrūḩ\n",
      "Processing record 196. City number: 101554. City name: Tārūt\n",
      "Processing record 197. City number: 3369174. City name: Calvinia\n",
      "Processing record 198. City number: 104515. City name: Makkah al Mukarramah\n",
      "Processing record 199. City number: 3648698. City name: Bachaquero\n",
      "Processing record 200. City number: 905789. City name: Mpongwe\n",
      "Processing record 201. City number: 6078372. City name: Moose Factory\n",
      "Processing record 202. City number: 1246294. City name: Galle\n",
      "Processing record 203. City number: 5384339. City name: Port Hueneme\n",
      "Processing record 204. City number: 4129397. City name: Russellville\n",
      "Processing record 205. City number: 3905792. City name: San Borja\n",
      "Processing record 206. City number: 469960. City name: Vytegra\n",
      "Processing record 207. City number: 5117949. City name: Freeport\n",
      "No data could be obtained for city: ramasukha\n",
      "Processing record 209. City number: 1139085. City name: Jurm\n",
      "Processing record 210. City number: 2240449. City name: Luanda\n",
      "No data could be obtained for city: toliary\n",
      "Processing record 212. City number: 3515200. City name: Totolapan\n",
      "Processing record 213. City number: 212730. City name: Kisangani\n",
      "No data could be obtained for city: tsihombe\n",
      "Processing record 215. City number: 3698359. City name: Chicama\n",
      "Processing record 216. City number: 3402648. City name: Carutapera\n",
      "Processing record 217. City number: 2347468. City name: Bauchi\n",
      "Processing record 218. City number: 3347762. City name: Lubango\n",
      "Processing record 219. City number: 779554. City name: Honningsvåg\n",
      "Processing record 220. City number: 57000. City name: Hobyo\n",
      "No data could be obtained for city: himora\n",
      "Processing record 222. City number: 2632287. City name: Dalvik\n",
      "Processing record 223. City number: 3468352. City name: Caçu\n",
      "Processing record 224. City number: 3451399. City name: Ribas do Rio Pardo\n",
      "Processing record 225. City number: 157429. City name: Kilindoni\n",
      "Processing record 226. City number: 667507. City name: Secăria\n",
      "Processing record 227. City number: 3705710. City name: Llano Largo\n",
      "Processing record 228. City number: 3394023. City name: Natal\n",
      "Processing record 229. City number: 477940. City name: Ust-Tsilma\n",
      "Processing record 230. City number: 3374210. City name: São Filipe\n",
      "Processing record 231. City number: 3523670. City name: Maltrata\n",
      "Processing record 232. City number: 3571913. City name: Marsh Harbour\n",
      "Processing record 233. City number: 5847411. City name: Kahului\n",
      "Processing record 234. City number: 5044290. City name: Saint Anthony\n",
      "Processing record 235. City number: 3465164. City name: Cristalina\n",
      "Processing record 236. City number: 209598. City name: Manono\n",
      "Processing record 237. City number: 570158. City name: Bytosh'\n",
      "Processing record 238. City number: 1056899. City name: Sambava\n",
      "Processing record 239. City number: 2514651. City name: Los Llanos de Aridane\n",
      "Processing record 240. City number: 5363208. City name: King City\n",
      "Processing record 241. City number: 3356832. City name: Henties Bay\n",
      "Processing record 242. City number: 3419842. City name: Sisimiut\n",
      "Processing record 243. City number: 5895424. City name: Bay Roberts\n",
      "Processing record 244. City number: 5972762. City name: Hay River\n",
      "Processing record 245. City number: 3374333. City name: Praia\n",
      "Processing record 246. City number: 364933. City name: Umm Kaddadah\n",
      "Processing record 247. City number: 3115824. City name: Muros\n",
      "Processing record 248. City number: 107304. City name: Buraidah\n",
      "Processing record 249. City number: 5666176. City name: Miles City\n",
      "Processing record 250. City number: 2269594. City name: Cascais\n",
      "Processing record 251. City number: 2446796. City name: Bilma\n",
      "Processing record 252. City number: 594639. City name: Simnas\n",
      "Processing record 253. City number: 927967. City name: Lilongwe\n",
      "Processing record 254. City number: 3414079. City name: Olafsvik\n",
      "Processing record 255. City number: 5983720. City name: Iqaluit\n",
      "Processing record 256. City number: 5906757. City name: Bow Island\n",
      "No data could be obtained for city: attawapiskat\n",
      "Processing record 258. City number: 3685292. City name: Dagua\n"
     ]
    },
    {
     "name": "stdout",
     "output_type": "stream",
     "text": [
      "Processing record 259. City number: 3932145. City name: Pisco\n",
      "Processing record 260. City number: 3440684. City name: San Félix\n",
      "Processing record 261. City number: 3671519. City name: Puerto Carreño\n",
      "Processing record 262. City number: 3168633. City name: Salò\n",
      "Processing record 263. City number: 2638419. City name: Scarborough\n",
      "Processing record 264. City number: 2917788. City name: Greifswald\n",
      "Processing record 265. City number: 1273648. City name: Dalhousie\n",
      "Processing record 266. City number: 6137462. City name: Saint-Augustin\n",
      "Processing record 267. City number: 5850554. City name: Makakilo City\n",
      "Processing record 268. City number: 780687. City name: Berlevåg\n",
      "Processing record 269. City number: 1220888. City name: Obigarm\n",
      "Processing record 270. City number: 372884. City name: Kapoeta\n",
      "Processing record 271. City number: 105298. City name: Jizan\n",
      "No data could be obtained for city: louisbourg\n",
      "Processing record 273. City number: 3545867. City name: Nueva Gerona\n",
      "Processing record 274. City number: 3382160. City name: Cayenne\n",
      "Processing record 275. City number: 3697838. City name: Contamana\n",
      "Processing record 276. City number: 3034125. City name: Arrondissement de Beaune\n",
      "Processing record 277. City number: 4031637. City name: Lavrentiya\n",
      "Processing record 278. City number: 1052944. City name: Angoche\n",
      "Processing record 279. City number: 5563839. City name: Fortuna\n",
      "No data could be obtained for city: doctor pedro p. pena\n",
      "Processing record 281. City number: 174875. City name: Kapan\n",
      "Processing record 282. City number: 2409215. City name: Mattru\n",
      "Processing record 283. City number: 2273435. City name: Tubmanburg\n",
      "Processing record 284. City number: 5742974. City name: North Bend\n",
      "Processing record 285. City number: 2312895. City name: Mbandaka\n",
      "Processing record 286. City number: 6065253. City name: Manitouwadge\n",
      "Processing record 287. City number: 3451124. City name: Rio Negrinho\n",
      "Processing record 288. City number: 5712169. City name: Baker City\n",
      "Processing record 289. City number: 3982837. City name: Sonoita\n",
      "Processing record 290. City number: 933548. City name: Lehututu\n",
      "Processing record 291. City number: 789107. City name: Mataruska Banja\n",
      "Processing record 292. City number: 367544. City name: Sawākin\n",
      "Processing record 293. City number: 1264976. City name: Leh\n",
      "Processing record 294. City number: 2776951. City name: Hallein\n",
      "Processing record 295. City number: 2524533. City name: Iglesias\n",
      "Processing record 296. City number: 3512067. City name: Baní\n",
      "Processing record 297. City number: 556268. City name: Ostrovnoy\n",
      "Processing record 298. City number: 64814. City name: Bandarbeyla\n",
      "Processing record 299. City number: 3155152. City name: Gravdal\n",
      "No data could be obtained for city: kristallopiyi\n",
      "Processing record 301. City number: 3448903. City name: São João da Barra\n",
      "Processing record 302. City number: 3422683. City name: Kangaatsiaq\n",
      "No data could be obtained for city: umzimvubu\n",
      "No data could be obtained for city: tabulbah\n",
      "Processing record 305. City number: 2655288. City name: Boddam\n",
      "Processing record 306. City number: 5866063. City name: Kenai\n",
      "Processing record 307. City number: 370457. City name: Maridi\n",
      "Processing record 308. City number: 933734. City name: Gweta\n",
      "Processing record 309. City number: 1253783. City name: Una\n",
      "Processing record 310. City number: 3381538. City name: Grand-Santi\n",
      "Processing record 311. City number: 539817. City name: Kudymkar\n",
      "No data could be obtained for city: parras\n",
      "Processing record 313. City number: 2618795. City name: Klaksvík\n",
      "Processing record 314. City number: 3354071. City name: Oranjemund\n",
      "Processing record 315. City number: 3395981. City name: Maceió\n",
      "Processing record 316. City number: 1500399. City name: Lokosovo\n",
      "Processing record 317. City number: 3352593. City name: Tsumeb\n",
      "Processing record 318. City number: 3452483. City name: Prado\n",
      "Processing record 319. City number: 3421319. City name: Nuuk\n",
      "Processing record 320. City number: 2214432. City name: Nālūt\n",
      "Processing record 321. City number: 5983607. City name: Inuvik\n",
      "No data could be obtained for city: old road\n",
      "Processing record 323. City number: 3137469. City name: Sørland\n",
      "Processing record 324. City number: 3468789. City name: Buritama\n",
      "Processing record 325. City number: 3981432. City name: Todos Santos\n",
      "Processing record 326. City number: 4164601. City name: Miramar\n",
      "Processing record 327. City number: 3452233. City name: Propriá\n",
      "No data could be obtained for city: tumannyy\n",
      "Processing record 329. City number: 1495812. City name: Ous\n",
      "Processing record 330. City number: 5973108. City name: Hearst\n",
      "Processing record 331. City number: 5431716. City name: Montrose\n",
      "Processing record 332. City number: 2527087. City name: Tiznit Province\n",
      "Processing record 333. City number: 2315417. City name: Inongo\n",
      "Processing record 334. City number: 3899539. City name: Antofagasta\n",
      "Processing record 335. City number: 3445026. City name: Vila Velha\n",
      "Processing record 336. City number: 374739. City name: Gogrial\n",
      "Processing record 337. City number: 5905393. City name: Bonavista\n",
      "Processing record 338. City number: 2452655. City name: Niono\n",
      "Processing record 339. City number: 5861897. City name: Fairbanks\n",
      "Processing record 340. City number: 1496511. City name: Novy Urengoy\n",
      "Processing record 341. City number: 3046693. City name: Pannonhalma\n",
      "Processing record 342. City number: 3662927. City name: Pauini\n",
      "Processing record 343. City number: 3981391. City name: Tomatlán\n",
      "Processing record 344. City number: 1037125. City name: Montepuez\n",
      "Processing record 345. City number: 317106. City name: Denizli Province\n",
      "Processing record 346. City number: 3401148. City name: Cururupu\n",
      "Processing record 347. City number: 286245. City name: Sur\n",
      "Processing record 348. City number: 5735238. City name: Klamath Falls\n",
      "Processing record 349. City number: 609906. City name: Fort-Shevchenko\n",
      "Processing record 350. City number: 4699066. City name: Houston\n",
      "Processing record 351. City number: 3141332. City name: Røros\n",
      "No data could be obtained for city: valjala\n",
      "Processing record 353. City number: 3403309. City name: Cantanhede\n",
      "Processing record 354. City number: 934649. City name: Cap Malheureux\n",
      "Processing record 355. City number: 245669. City name: Adré\n",
      "Processing record 356. City number: 212360. City name: Kongolo\n",
      "Processing record 357. City number: 3628473. City name: San Cristobal\n",
      "Processing record 358. City number: 5942547. City name: Drayton Valley\n",
      "Processing record 359. City number: 2381972. City name: Adrar\n",
      "Processing record 360. City number: 695104. City name: Ruska Poliana\n",
      "Processing record 361. City number: 746878. City name: Giresun Province\n",
      "Processing record 362. City number: 3451138. City name: Rio Grande\n",
      "Processing record 363. City number: 4760059. City name: Fredericksburg\n",
      "Processing record 364. City number: 5779334. City name: Orem\n",
      "Processing record 365. City number: 3665202. City name: Aripuanã\n",
      "Processing record 366. City number: 1492607. City name: Severnoye\n",
      "Processing record 367. City number: 3622716. City name: Nicoya\n",
      "Processing record 368. City number: 3423146. City name: Ilulissat\n",
      "Processing record 369. City number: 6096551. City name: Pangnirtung\n",
      "Processing record 370. City number: 3395458. City name: Maragogi\n",
      "Processing record 371. City number: 5127305. City name: Monroe\n",
      "No data could be obtained for city: saryshagan\n",
      "Processing record 373. City number: 4007676. City name: Pueblo Nuevo\n",
      "Processing record 374. City number: 150099. City name: Sepuka\n",
      "Processing record 375. City number: 601551. City name: Akdepe\n",
      "Processing record 376. City number: 3984997. City name: San Quintín\n",
      "Processing record 377. City number: 515155. City name: Opochka\n",
      "Processing record 378. City number: 210379. City name: Lusambo\n",
      "Processing record 379. City number: 2231506. City name: Foumban\n",
      "Processing record 380. City number: 736866. City name: Anaráchi\n",
      "Processing record 381. City number: 3675668. City name: Mahates\n",
      "No data could be obtained for city: bargal\n",
      "Processing record 383. City number: 3573374. City name: The Valley\n",
      "Processing record 384. City number: 2236967. City name: Soyo\n",
      "Processing record 385. City number: 217695. City name: Bunia\n",
      "Processing record 386. City number: 3386931. City name: Tamandaré\n",
      "Processing record 387. City number: 3533462. City name: Acapulco de Juárez\n"
     ]
    },
    {
     "name": "stdout",
     "output_type": "stream",
     "text": [
      "Processing record 388. City number: 3420846. City name: Qaqortoq\n",
      "Processing record 389. City number: 4717644. City name: Parker\n",
      "Processing record 390. City number: 898947. City name: Senanga\n",
      "Processing record 391. City number: 3516936. City name: Miahuatlán\n",
      "Processing record 392. City number: 4713738. City name: Nacogdoches\n",
      "Processing record 393. City number: 525262. City name: Morki\n",
      "Processing record 394. City number: 1255361. City name: Suratgarh\n",
      "Processing record 395. City number: 3451190. City name: Rio de Janeiro\n",
      "Processing record 396. City number: 3592086. City name: Ocós\n",
      "Processing record 397. City number: 2276492. City name: Harper\n",
      "Processing record 398. City number: 1256377. City name: Siddipet\n",
      "Processing record 399. City number: 544068. City name: Kosmynino\n",
      "Processing record 400. City number: 3397851. City name: Itupiranga\n",
      "Processing record 401. City number: 4477525. City name: Lumberton\n",
      "Processing record 402. City number: 6324729. City name: Halifax\n",
      "Processing record 403. City number: 2450173. City name: Taoudenni\n",
      "Processing record 404. City number: 236901. City name: Ouadda\n",
      "Processing record 405. City number: 600438. City name: Biržai\n",
      "Processing record 406. City number: 2434979. City name: Bol\n",
      "Processing record 407. City number: 371745. City name: Kutum\n",
      "Processing record 408. City number: 147774. City name: Khojaly District\n",
      "Processing record 409. City number: 1524606. City name: Derzhavīnsk\n",
      "Processing record 410. City number: 3893726. City name: Constitución\n",
      "Processing record 411. City number: 1012600. City name: Cradock\n",
      "Processing record 412. City number: 3516948. City name: Jamiltepec\n",
      "Processing record 413. City number: 2409914. City name: Bonthe\n",
      "Processing record 414. City number: 2629833. City name: Husavik\n",
      "Processing record 415. City number: 6541905. City name: Nola\n",
      "Processing record 416. City number: 3386842. City name: Tangará\n",
      "Processing record 417. City number: 2347758. City name: Bara\n",
      "Processing record 418. City number: 623549. City name: Pinsk\n",
      "Processing record 419. City number: 3839307. City name: Rawson\n",
      "Processing record 420. City number: 161974. City name: Bereket\n",
      "Processing record 421. City number: 4026082. City name: Lázaro Cárdenas\n",
      "Processing record 422. City number: 934479. City name: Grand Gaube\n",
      "Processing record 423. City number: 153955. City name: Micheweni\n",
      "Processing record 424. City number: 2332453. City name: Lagos\n",
      "Processing record 425. City number: 933677. City name: Kasane\n",
      "Processing record 426. City number: 103630. City name: Najrān\n",
      "Processing record 427. City number: 3462378. City name: Goianésia\n",
      "No data could be obtained for city: eskasem\n",
      "Processing record 429. City number: 598690. City name: Juodupė\n",
      "Processing record 430. City number: 6542103. City name: Sciacca\n",
      "Processing record 431. City number: 216281. City name: Goma\n",
      "Processing record 432. City number: 4031742. City name: Egvekinot\n",
      "Processing record 433. City number: 558236. City name: Gryazovets\n",
      "Processing record 434. City number: 6201197. City name: Muhafazat Lahij\n",
      "Processing record 435. City number: 6180550. City name: Whitehorse\n",
      "Processing record 436. City number: 3359638. City name: Walvis Bay\n",
      "Processing record 437. City number: 1269685. City name: Isāgarh\n",
      "Processing record 438. City number: 1160571. City name: Khāsh\n",
      "Processing record 439. City number: 1106643. City name: Quatre Cocos\n",
      "Processing record 440. City number: 489910. City name: Sozimskiy\n",
      "Processing record 441. City number: 3832899. City name: Viedma\n",
      "Processing record 442. City number: 3462996. City name: Francisco Beltrão\n",
      "Processing record 443. City number: 3138076. City name: Snåase\n",
      "No data could be obtained for city: samusu\n",
      "Processing record 445. City number: 3520994. City name: Puerto Escondido\n",
      "Processing record 446. City number: 2517750. City name: Felanitx\n",
      "Processing record 447. City number: 6690296. City name: Saint-Joseph\n",
      "Processing record 448. City number: 3855065. City name: General Roca\n",
      "Processing record 449. City number: 1519327. City name: Shakhtinsk\n",
      "Processing record 450. City number: 2444995. City name: Filingué\n",
      "Processing record 451. City number: 496285. City name: Severodvinsk\n",
      "Processing record 452. City number: 162158. City name: Baharly\n",
      "Processing record 453. City number: 5404476. City name: Ukiah\n",
      "Processing record 454. City number: 4617305. City name: Davidson\n",
      "Processing record 455. City number: 3922037. City name: Caranavi\n",
      "Processing record 456. City number: 1270287. City name: Harpanahalli\n",
      "Processing record 457. City number: 5919850. City name: Chapais\n",
      "Processing record 458. City number: 187896. City name: Mandera\n",
      "Processing record 459. City number: 2122614. City name: Okha\n",
      "Processing record 460. City number: 5924351. City name: Clyde River\n",
      "Processing record 461. City number: 1253237. City name: Verāval\n",
      "Processing record 462. City number: 503210. City name: Radovitskiy\n",
      "Processing record 463. City number: 3347353. City name: Menongue\n",
      "Processing record 464. City number: 3416888. City name: Grindavik\n",
      "Processing record 465. City number: 3775850. City name: Bosconia\n",
      "Processing record 466. City number: 2523888. City name: Paola\n",
      "Processing record 467. City number: 2510573. City name: Teguise\n",
      "Processing record 468. City number: 1259395. City name: Porbandar\n",
      "No data could be obtained for city: babanusah\n",
      "Processing record 470. City number: 359792. City name: Aswān\n",
      "Processing record 471. City number: 100926. City name: Umluj\n",
      "Processing record 472. City number: 235826. City name: Zemio\n",
      "Processing record 473. City number: 3470137. City name: Belmonte\n",
      "Processing record 474. City number: 2630299. City name: Hofn\n",
      "No data could be obtained for city: jarjis\n",
      "Processing record 476. City number: 962847. City name: Reitz\n",
      "Processing record 477. City number: 3173615. City name: Melfi\n",
      "Processing record 478. City number: 3580477. City name: West Bay\n",
      "Processing record 479. City number: 6112862. City name: Preeceville\n",
      "Processing record 480. City number: 3141310. City name: Rørvik\n",
      "Processing record 481. City number: 1337612. City name: Dhidhdhoo\n",
      "Processing record 482. City number: 5546220. City name: Saint George\n",
      "Processing record 483. City number: 3936456. City name: Lima\n",
      "Processing record 484. City number: 3887127. City name: Iquique\n",
      "Processing record 485. City number: 3354077. City name: Opuwo\n",
      "Processing record 486. City number: 2212775. City name: Sabha\n",
      "Processing record 487. City number: 64013. City name: Bosaso\n",
      "Processing record 488. City number: 553766. City name: Kamenka\n",
      "No data could be obtained for city: sataua\n",
      "Processing record 490. City number: 2643044. City name: Margate\n",
      "Processing record 491. City number: 8010683. City name: Porto Santo\n",
      "Processing record 492. City number: 1337613. City name: Kulhudhuffushi\n",
      "Processing record 493. City number: 576093. City name: Blagoyevo\n",
      "Processing record 494. City number: 2510693. City name: Talavera de la Reina\n",
      "Processing record 495. City number: 3412093. City name: Vestmannaeyjar\n",
      "Processing record 496. City number: 233093. City name: Kaabong\n",
      "Processing record 497. City number: 3421719. City name: Narsaq\n",
      "Processing record 498. City number: 778362. City name: Øksfjord\n",
      "No data could be obtained for city: achisay\n",
      "Processing record 500. City number: 2980080. City name: Saint-François\n",
      "Processing record 501. City number: 1529660. City name: Aksu\n",
      "Processing record 502. City number: 3899695. City name: Ancud\n",
      "Processing record 503. City number: 3092472. City name: Malbork\n",
      "Processing record 504. City number: 4734909. City name: Sulphur Springs\n",
      "Processing record 505. City number: 5301067. City name: Kingman\n",
      "No data could be obtained for city: marcona\n",
      "Processing record 507. City number: 2070998. City name: Geraldton\n",
      "Processing record 508. City number: 1498087. City name: Nadym\n",
      "Processing record 509. City number: 3671387. City name: Puerto Nariño\n",
      "Processing record 510. City number: 3662252. City name: São Paulo de Olivença\n",
      "Processing record 511. City number: 964712. City name: Plettenberg Bay\n",
      "No data could be obtained for city: viligili\n",
      "Processing record 513. City number: 3921141. City name: Charagua\n",
      "Processing record 514. City number: 4829791. City name: Albertville\n",
      "Processing record 515. City number: 3421982. City name: Maniitsoq\n",
      "Processing record 516. City number: 2218840. City name: Bani Walid\n"
     ]
    },
    {
     "name": "stdout",
     "output_type": "stream",
     "text": [
      "Processing record 517. City number: 3489440. City name: Morant Bay\n",
      "Processing record 518. City number: 877391. City name: Tandahimba\n",
      "Processing record 519. City number: 3833883. City name: Trelew\n",
      "Processing record 520. City number: 3358670. City name: Arandis\n",
      "Processing record 521. City number: 3395062. City name: Maués\n",
      "Processing record 522. City number: 2246901. City name: Oussouye\n",
      "Processing record 523. City number: 3445912. City name: Turmalina\n",
      "Processing record 524. City number: 347634. City name: Ţahţā\n",
      "Processing record 525. City number: 2963295. City name: Killybegs\n",
      "Processing record 526. City number: 4155006. City name: Fernandina Beach\n",
      "Processing record 527. City number: 293842. City name: Kiryat Gat\n",
      "Processing record 528. City number: 293842. City name: Kiryat Gat\n",
      "Processing record 529. City number: 3513563. City name: Kralendijk\n",
      "Processing record 530. City number: 2270385. City name: Camacha\n",
      "Processing record 531. City number: 2171099. City name: Codrington\n",
      "Processing record 532. City number: 3430988. City name: Luján\n",
      "Processing record 533. City number: 743881. City name: Kastamonu Province\n",
      "Processing record 534. City number: 1254177. City name: Trimbak\n",
      "Processing record 535. City number: 2399001. City name: Mayumba\n",
      "Processing record 536. City number: 2537881. City name: Safi\n",
      "Processing record 537. City number: 3024035. City name: Concarneau\n",
      "No data could be obtained for city: yefira\n",
      "Processing record 539. City number: 3123493. City name: Ferrol\n",
      "Processing record 540. City number: 3608828. City name: Iralaya\n",
      "Processing record 541. City number: 3435261. City name: Concordia\n",
      "Processing record 542. City number: 777682. City name: Skjervøy\n",
      "Processing record 543. City number: 5126209. City name: Mastic Beach\n",
      "Processing record 544. City number: 3385077. City name: Conde\n",
      "Processing record 545. City number: 5711149. City name: Altamont\n",
      "Processing record 546. City number: 4946620. City name: Palmer\n",
      "Processing record 547. City number: 1496503. City name: Noyabrsk\n",
      "Processing record 548. City number: 714073. City name: Vésztő\n",
      "Processing record 549. City number: 1065140. City name: Faratsiho\n",
      "Processing record 550. City number: 3686540. City name: Chinú\n",
      "No data could be obtained for city: port-de-paix\n",
      "Processing record 552. City number: 473263. City name: Vizinga\n",
      "Processing record 553. City number: 878141. City name: Madimba\n",
      "Processing record 554. City number: 3927942. City name: Tambopata\n",
      "Processing record 555. City number: 1082243. City name: Ambilobe\n",
      "Processing record 556. City number: 3460522. City name: Itumbiara\n",
      "Processing record 557. City number: 5017822. City name: Bemidji\n",
      "Processing record 558. City number: 4035249. City name: Lufilufi\n",
      "Processing record 559. City number: 1083968. City name: Ambalavao\n",
      "No data could be obtained for city: umm ruwabah\n",
      "Processing record 561. City number: 5557293. City name: Sitka\n",
      "Processing record 562. City number: 2654970. City name: Brae\n",
      "Processing record 563. City number: 215976. City name: Ilebo\n",
      "Processing record 564. City number: 3633444. City name: Machiques\n",
      "Processing record 565. City number: 362973. City name: Abnūb\n",
      "Processing record 566. City number: 4681976. City name: Cleburne\n",
      "Processing record 567. City number: 3372783. City name: Ponta Delgada\n",
      "Processing record 568. City number: 1271940. City name: Farrukhnagar\n",
      "Processing record 569. City number: 115019. City name: Shiraz\n",
      "Processing record 570. City number: 5357155. City name: Hillsborough\n",
      "Processing record 571. City number: 3393536. City name: Olinda\n",
      "Processing record 572. City number: 3703938. City name: Natá\n",
      "Processing record 573. City number: 932416. City name: Mokhotlong\n",
      "Processing record 574. City number: 4164092. City name: Merritt Island\n",
      "Processing record 575. City number: 6050066. City name: La Ronge\n",
      "Processing record 576. City number: 3925040. City name: Jaru\n",
      "Processing record 577. City number: 2409306. City name: Freetown\n",
      "Processing record 578. City number: 5952330. City name: Ferme-Neuve\n",
      "Processing record 579. City number: 87205. City name: Darnah\n",
      "Processing record 580. City number: 3372472. City name: Vila Franca do Campo\n",
      "Processing record 581. City number: 3629710. City name: Puerto Ayacucho\n",
      "Processing record 582. City number: 373303. City name: Juba\n",
      "Processing record 583. City number: 702116. City name: Malyn\n",
      "Processing record 584. City number: 638936. City name: Rovaniemi\n",
      "Processing record 585. City number: 1490796. City name: Strezhevoy\n",
      "Processing record 586. City number: 3902377. City name: La Santisima Trinidad\n",
      "Processing record 587. City number: 145531. City name: Saurimo\n",
      "Processing record 588. City number: 741855. City name: Lüleburgaz\n",
      "No data could be obtained for city: lalomanu\n",
      "No data could be obtained for city: fort saint john\n",
      "Processing record 591. City number: 3995236. City name: Mulegé\n",
      "Processing record 592. City number: 935616. City name: Le Port\n",
      "Processing record 593. City number: 3088435. City name: Polkowice\n",
      "Processing record 594. City number: 4231997. City name: Avera\n",
      "No data could be obtained for city: rab\n",
      "Processing record 596. City number: 866062. City name: Iskateley\n",
      "Processing record 597. City number: 778707. City name: Mehamn\n",
      "No data could be obtained for city: sinkat\n",
      "Processing record 599. City number: 5354943. City name: Half Moon Bay\n",
      "Processing record 600. City number: 2396518. City name: Port-Gentil\n",
      "Processing record 601. City number: 893549. City name: Chipinge\n",
      "Processing record 602. City number: 4581833. City name: Hilton Head\n",
      "Processing record 603. City number: 6539309. City name: Sinnai\n",
      "Processing record 604. City number: 1054329. City name: Vangaindrano\n",
      "Processing record 605. City number: 527740. City name: Melenki\n",
      "Processing record 606. City number: 2525727. City name: Amantea\n",
      "Processing record 607. City number: 3430443. City name: Necochea\n",
      "Processing record 608. City number: 2645826. City name: Kendal\n",
      "Processing record 609. City number: 617270. City name: Taraclia\n",
      "No data could be obtained for city: inderborskiy\n",
      "Processing record 611. City number: 1058381. City name: Morondava\n",
      "Processing record 612. City number: 3577430. City name: Road Town\n",
      "Processing record 613. City number: 3662342. City name: São Gabriel da Cachoeira\n",
      "Processing record 614. City number: 513329. City name: Ozinki\n",
      "Processing record 615. City number: 3652758. City name: Puerto Baquerizo Moreno\n",
      "Processing record 616. City number: 3893629. City name: Coquimbo\n",
      "Processing record 617. City number: 3023324. City name: Couëron\n",
      "Processing record 618. City number: 3992842. City name: Petatlán\n",
      "Processing record 619. City number: 3838233. City name: Salta\n",
      "Processing record 620. City number: 638104. City name: Säkylä\n",
      "Processing record 621. City number: 6322927. City name: Pontal do Paraná\n",
      "Processing record 622. City number: 3456642. City name: Mozarlândia\n",
      "Processing record 623. City number: 3663693. City name: Jutaí\n",
      "Processing record 624. City number: 1178338. City name: Gilgit\n",
      "Processing record 625. City number: 2944354. City name: Bremervörde\n",
      "Processing record 626. City number: 1269873. City name: Hunsūr\n",
      "Processing record 627. City number: 4787534. City name: Sterling\n",
      "Processing record 628. City number: 216449. City name: Gandajika\n",
      "Processing record 629. City number: 6111696. City name: Port-Cartier\n",
      "Processing record 630. City number: 359796. City name: Suez\n",
      "Processing record 631. City number: 3894426. City name: Coyhaique\n",
      "Processing record 632. City number: 7647007. City name: Bariloche\n",
      "Processing record 633. City number: 5955902. City name: Fort Nelson\n",
      "Processing record 634. City number: 2364079. City name: Sotouboua\n",
      "Processing record 635. City number: 140463. City name: Birjand\n",
      "Processing record 636. City number: 3981885. City name: Tequila\n",
      "Processing record 637. City number: 5975004. City name: High Level\n",
      "Processing record 638. City number: 3470674. City name: Barra dos Coqueiros\n",
      "Processing record 639. City number: 153247. City name: Monduli\n",
      "Processing record 640. City number: 2616504. City name: Nexø\n",
      "No data could be obtained for city: riaba\n",
      "Processing record 642. City number: 4565090. City name: Guánica\n",
      "Processing record 643. City number: 2610806. City name: Vágur\n",
      "No data could be obtained for city: bolungarvik\n",
      "Processing record 645. City number: 525719. City name: Mokrous\n"
     ]
    },
    {
     "name": "stdout",
     "output_type": "stream",
     "text": [
      "Processing record 646. City number: 3870282. City name: Talcahuano\n",
      "Processing record 647. City number: 921889. City name: Fomboni\n",
      "Processing record 648. City number: 4255151. City name: Bud\n",
      "Processing record 649. City number: 3761194. City name: Miraflores\n",
      "Processing record 650. City number: 554830. City name: Izhma\n",
      "No data could be obtained for city: westpunt\n",
      "Processing record 652. City number: 5110629. City name: Crystal Beach\n",
      "Processing record 653. City number: 535113. City name: Lipin Bor\n",
      "Processing record 654. City number: 3988392. City name: Rosarito\n",
      "Processing record 655. City number: 3617459. City name: Nueva Guinea\n",
      "Processing record 656. City number: 3440777. City name: Rocha\n",
      "Processing record 657. City number: 562161. City name: Galich\n",
      "Processing record 658. City number: 771804. City name: Gorlice\n",
      "Processing record 659. City number: 3388456. City name: São José da Coroa Grande\n",
      "Processing record 660. City number: 1504382. City name: Kargasok\n",
      "Processing record 661. City number: 5021632. City name: Cloquet\n",
      "Processing record 662. City number: 3695465. City name: Huallanca\n",
      "Processing record 663. City number: 3939168. City name: Huarmey\n",
      "Processing record 664. City number: 1512019. City name: Aksarka\n",
      "Processing record 665. City number: 6319315. City name: Fonte Boa\n",
      "Processing record 666. City number: 244878. City name: Biltine\n",
      "Processing record 667. City number: 3385980. City name: Tucumã\n",
      "No data could be obtained for city: churumuco\n",
      "Processing record 669. City number: 3671497. City name: Puerto Colombia\n",
      "Processing record 670. City number: 3421765. City name: Nanortalik\n",
      "Processing record 671. City number: 1168101. City name: Goth Phulji\n",
      "Processing record 672. City number: 491281. City name: Sokol\n",
      "Processing record 673. City number: 3691954. City name: Sechura\n",
      "No data could be obtained for city: skalistyy\n",
      "Processing record 675. City number: 543508. City name: Kovdor\n",
      "Processing record 676. City number: 5389519. City name: Sacramento\n",
      "Processing record 677. City number: 3572906. City name: Andros Town\n",
      "Processing record 678. City number: 1174167. City name: Khanpur\n",
      "Processing record 679. City number: 3698540. City name: Chachapoyas\n",
      "Processing record 680. City number: 4565898. City name: Lajas\n",
      "No data could be obtained for city: mahadday weyne\n",
      "No data could be obtained for city: solovetskiy\n",
      "No data could be obtained for city: hihifo\n",
      "Processing record 684. City number: 2255304. City name: Sémbé\n",
      "Processing record 685. City number: 2357043. City name: Ouahigouya\n",
      "Processing record 686. City number: 704335. City name: Krasnosilka\n",
      "No data could be obtained for city: barawe\n",
      "Processing record 688. City number: 665790. City name: Sulina\n",
      "Processing record 689. City number: 1277907. City name: Bāgeshwar\n",
      "Processing record 690. City number: 152663. City name: Mugumu\n",
      "Processing record 691. City number: 3869716. City name: Tocopilla\n",
      "Processing record 692. City number: 3336897. City name: La Rioja\n",
      "Processing record 693. City number: 2647984. City name: Great Yarmouth\n",
      "Processing record 694. City number: 5321473. City name: Winslow\n",
      "Processing record 695. City number: 219414. City name: Basoko\n",
      "Processing record 696. City number: 3435038. City name: Dolores\n",
      "Processing record 697. City number: 77408. City name: Bajil\n",
      "Processing record 698. City number: 1490918. City name: Staryy Nadym\n",
      "Processing record 699. City number: 2274895. City name: Monrovia\n",
      "No data could be obtained for city: buqayq\n"
     ]
    }
   ],
   "source": [
    "#iterate through cities and obtain data, and fill data in dataframe\n",
    "\n",
    "for index, row in cities_df.iterrows():\n",
    "    try:\n",
    "        url = \"http://api.openweathermap.org/data/2.5/weather?\"\n",
    "        parameters = {\n",
    "            \"units\": \"metric\",\n",
    "            \"appid\": {weather_api_key},\n",
    "            \"q\":{row[0]}\n",
    "        }\n",
    "        weather_data = requests.get(url, params = parameters).json()\n",
    "        print(f\"Processing record {index}. City number: {weather_data['id']}. City name: {weather_data['name']}\")\n",
    "        country = weather_data[\"sys\"][\"country\"]\n",
    "        datetime = weather_data[\"dt\"]\n",
    "        lat = weather_data[\"coord\"][\"lat\"]\n",
    "        lon = weather_data[\"coord\"][\"lon\"]\n",
    "        tempc = weather_data[\"main\"][\"temp_max\"]\n",
    "        humid = weather_data[\"main\"][\"humidity\"]\n",
    "        cloud = weather_data[\"clouds\"][\"all\"]\n",
    "        wind = weather_data[\"wind\"][\"speed\"]\n",
    "        cities_df.loc[index,\"Country\"] = country\n",
    "        cities_df.loc[index,\"Datetime\"] = datetime\n",
    "        cities_df.loc[index,\"Latitude\"] = lat\n",
    "        cities_df.loc[index,\"Longitude\"] = lon\n",
    "        cities_df.loc[index,\"Max temperature (c)\"] = tempc\n",
    "        cities_df.loc[index,\"Humidity (%)\"] = humid\n",
    "        cities_df.loc[index,\"Cloudiness (%)\"] = cloud\n",
    "        cities_df.loc[index,\"Wind Speed (mps)\"] = wind\n",
    "    except KeyError:\n",
    "        print(f\"No data could be obtained for city: {row[0]}\")\n",
    "        "
   ]
  },
  {
   "cell_type": "code",
   "execution_count": 6,
   "metadata": {},
   "outputs": [
    {
     "ename": "NameError",
     "evalue": "name 'cities_df' is not defined",
     "output_type": "error",
     "traceback": [
      "\u001b[1;31m---------------------------------------------------------------------------\u001b[0m",
      "\u001b[1;31mNameError\u001b[0m                                 Traceback (most recent call last)",
      "\u001b[1;32m~\\AppData\\Local\\Temp/ipykernel_18600/3007735668.py\u001b[0m in \u001b[0;36m<module>\u001b[1;34m\u001b[0m\n\u001b[0;32m      1\u001b[0m \u001b[1;31m#Remove blank rows\u001b[0m\u001b[1;33m\u001b[0m\u001b[1;33m\u001b[0m\u001b[1;33m\u001b[0m\u001b[0m\n\u001b[1;32m----> 2\u001b[1;33m \u001b[0mclean_data\u001b[0m \u001b[1;33m=\u001b[0m \u001b[0mcities_df\u001b[0m\u001b[1;33m.\u001b[0m\u001b[0mcopy\u001b[0m\u001b[1;33m(\u001b[0m\u001b[1;33m)\u001b[0m\u001b[1;33m\u001b[0m\u001b[1;33m\u001b[0m\u001b[0m\n\u001b[0m\u001b[0;32m      3\u001b[0m \u001b[0mclean_data\u001b[0m \u001b[1;33m=\u001b[0m \u001b[0mclean_data\u001b[0m\u001b[1;33m.\u001b[0m\u001b[0mloc\u001b[0m\u001b[1;33m[\u001b[0m\u001b[0mclean_data\u001b[0m\u001b[1;33m[\u001b[0m\u001b[1;34m\"Country\"\u001b[0m\u001b[1;33m]\u001b[0m \u001b[1;33m!=\u001b[0m \u001b[1;34m\" \"\u001b[0m\u001b[1;33m]\u001b[0m\u001b[1;33m.\u001b[0m\u001b[0mreset_index\u001b[0m\u001b[1;33m(\u001b[0m\u001b[0mdrop\u001b[0m \u001b[1;33m=\u001b[0m \u001b[1;32mTrue\u001b[0m\u001b[1;33m)\u001b[0m\u001b[1;33m\u001b[0m\u001b[1;33m\u001b[0m\u001b[0m\n\u001b[0;32m      4\u001b[0m \u001b[0mclean_data\u001b[0m\u001b[1;33m\u001b[0m\u001b[1;33m\u001b[0m\u001b[0m\n",
      "\u001b[1;31mNameError\u001b[0m: name 'cities_df' is not defined"
     ]
    }
   ],
   "source": [
    "#Remove blank rows\n",
    "clean_data = cities_df.copy()\n",
    "clean_data = clean_data.loc[clean_data[\"Country\"] != \" \"].reset_index(drop = True)\n",
    "clean_data"
   ]
  },
  {
   "cell_type": "markdown",
   "metadata": {},
   "source": [
    "### Convert Raw Data to DataFrame\n",
    "* Export the city data into a .csv.\n",
    "* Display the DataFrame"
   ]
  },
  {
   "cell_type": "code",
   "execution_count": 7,
   "metadata": {},
   "outputs": [
    {
     "ename": "NameError",
     "evalue": "name 'clean_data' is not defined",
     "output_type": "error",
     "traceback": [
      "\u001b[1;31m---------------------------------------------------------------------------\u001b[0m",
      "\u001b[1;31mNameError\u001b[0m                                 Traceback (most recent call last)",
      "\u001b[1;32m~\\AppData\\Local\\Temp/ipykernel_18600/3744514998.py\u001b[0m in \u001b[0;36m<module>\u001b[1;34m\u001b[0m\n\u001b[1;32m----> 1\u001b[1;33m \u001b[0mclean_data\u001b[0m\u001b[1;33m.\u001b[0m\u001b[0mto_csv\u001b[0m\u001b[1;33m(\u001b[0m\u001b[1;34m\"cities.csv\"\u001b[0m\u001b[1;33m,\u001b[0m \u001b[0mheader\u001b[0m \u001b[1;33m=\u001b[0m \u001b[1;32mTrue\u001b[0m\u001b[1;33m)\u001b[0m\u001b[1;33m\u001b[0m\u001b[1;33m\u001b[0m\u001b[0m\n\u001b[0m",
      "\u001b[1;31mNameError\u001b[0m: name 'clean_data' is not defined"
     ]
    }
   ],
   "source": [
    "clean_data.to_csv(\"cities.csv\", header = True)"
   ]
  },
  {
   "cell_type": "code",
   "execution_count": 9,
   "metadata": {},
   "outputs": [
    {
     "data": {
      "text/html": [
       "<div>\n",
       "<style scoped>\n",
       "    .dataframe tbody tr th:only-of-type {\n",
       "        vertical-align: middle;\n",
       "    }\n",
       "\n",
       "    .dataframe tbody tr th {\n",
       "        vertical-align: top;\n",
       "    }\n",
       "\n",
       "    .dataframe thead th {\n",
       "        text-align: right;\n",
       "    }\n",
       "</style>\n",
       "<table border=\"1\" class=\"dataframe\">\n",
       "  <thead>\n",
       "    <tr style=\"text-align: right;\">\n",
       "      <th></th>\n",
       "      <th>City</th>\n",
       "      <th>Country</th>\n",
       "      <th>Datetime</th>\n",
       "      <th>Latitude</th>\n",
       "      <th>Longitude</th>\n",
       "      <th>Max temperature (c)</th>\n",
       "      <th>Humidity (%)</th>\n",
       "      <th>Cloudiness (%)</th>\n",
       "      <th>Wind Speed (mps)</th>\n",
       "    </tr>\n",
       "  </thead>\n",
       "  <tbody>\n",
       "    <tr>\n",
       "      <th>0</th>\n",
       "      <td>ouesso</td>\n",
       "      <td>CG</td>\n",
       "      <td>1634715181</td>\n",
       "      <td>1.6136</td>\n",
       "      <td>16.0517</td>\n",
       "      <td>21.68</td>\n",
       "      <td>99</td>\n",
       "      <td>100</td>\n",
       "      <td>0.78</td>\n",
       "    </tr>\n",
       "    <tr>\n",
       "      <th>1</th>\n",
       "      <td>laguna</td>\n",
       "      <td>US</td>\n",
       "      <td>1634715183</td>\n",
       "      <td>38.4210</td>\n",
       "      <td>-121.4238</td>\n",
       "      <td>18.03</td>\n",
       "      <td>54</td>\n",
       "      <td>90</td>\n",
       "      <td>0.45</td>\n",
       "    </tr>\n",
       "    <tr>\n",
       "      <th>2</th>\n",
       "      <td>guerrero negro</td>\n",
       "      <td>MX</td>\n",
       "      <td>1634715184</td>\n",
       "      <td>27.9769</td>\n",
       "      <td>-114.0611</td>\n",
       "      <td>17.13</td>\n",
       "      <td>73</td>\n",
       "      <td>90</td>\n",
       "      <td>4.63</td>\n",
       "    </tr>\n",
       "    <tr>\n",
       "      <th>3</th>\n",
       "      <td>victoria</td>\n",
       "      <td>HK</td>\n",
       "      <td>1634715050</td>\n",
       "      <td>22.2855</td>\n",
       "      <td>114.1577</td>\n",
       "      <td>29.10</td>\n",
       "      <td>70</td>\n",
       "      <td>82</td>\n",
       "      <td>4.92</td>\n",
       "    </tr>\n",
       "    <tr>\n",
       "      <th>4</th>\n",
       "      <td>mataura</td>\n",
       "      <td>NZ</td>\n",
       "      <td>1634715186</td>\n",
       "      <td>-46.1927</td>\n",
       "      <td>168.8643</td>\n",
       "      <td>4.85</td>\n",
       "      <td>85</td>\n",
       "      <td>1</td>\n",
       "      <td>1.11</td>\n",
       "    </tr>\n",
       "    <tr>\n",
       "      <th>...</th>\n",
       "      <td>...</td>\n",
       "      <td>...</td>\n",
       "      <td>...</td>\n",
       "      <td>...</td>\n",
       "      <td>...</td>\n",
       "      <td>...</td>\n",
       "      <td>...</td>\n",
       "      <td>...</td>\n",
       "      <td>...</td>\n",
       "    </tr>\n",
       "    <tr>\n",
       "      <th>637</th>\n",
       "      <td>basoko</td>\n",
       "      <td>CD</td>\n",
       "      <td>1634715939</td>\n",
       "      <td>1.2391</td>\n",
       "      <td>23.6160</td>\n",
       "      <td>22.21</td>\n",
       "      <td>90</td>\n",
       "      <td>100</td>\n",
       "      <td>1.12</td>\n",
       "    </tr>\n",
       "    <tr>\n",
       "      <th>638</th>\n",
       "      <td>dolores</td>\n",
       "      <td>AR</td>\n",
       "      <td>1634716118</td>\n",
       "      <td>-36.3132</td>\n",
       "      <td>-57.6792</td>\n",
       "      <td>10.21</td>\n",
       "      <td>94</td>\n",
       "      <td>0</td>\n",
       "      <td>2.38</td>\n",
       "    </tr>\n",
       "    <tr>\n",
       "      <th>639</th>\n",
       "      <td>bajil</td>\n",
       "      <td>YE</td>\n",
       "      <td>1634716119</td>\n",
       "      <td>15.0584</td>\n",
       "      <td>43.2851</td>\n",
       "      <td>34.16</td>\n",
       "      <td>42</td>\n",
       "      <td>90</td>\n",
       "      <td>3.09</td>\n",
       "    </tr>\n",
       "    <tr>\n",
       "      <th>640</th>\n",
       "      <td>staryy nadym</td>\n",
       "      <td>RU</td>\n",
       "      <td>1634716121</td>\n",
       "      <td>65.6118</td>\n",
       "      <td>72.6842</td>\n",
       "      <td>1.95</td>\n",
       "      <td>76</td>\n",
       "      <td>100</td>\n",
       "      <td>7.26</td>\n",
       "    </tr>\n",
       "    <tr>\n",
       "      <th>641</th>\n",
       "      <td>monrovia</td>\n",
       "      <td>LR</td>\n",
       "      <td>1634716089</td>\n",
       "      <td>6.3005</td>\n",
       "      <td>-10.7969</td>\n",
       "      <td>24.87</td>\n",
       "      <td>79</td>\n",
       "      <td>100</td>\n",
       "      <td>1.92</td>\n",
       "    </tr>\n",
       "  </tbody>\n",
       "</table>\n",
       "<p>642 rows × 9 columns</p>\n",
       "</div>"
      ],
      "text/plain": [
       "               City Country    Datetime  Latitude  Longitude  \\\n",
       "0            ouesso      CG  1634715181    1.6136    16.0517   \n",
       "1            laguna      US  1634715183   38.4210  -121.4238   \n",
       "2    guerrero negro      MX  1634715184   27.9769  -114.0611   \n",
       "3          victoria      HK  1634715050   22.2855   114.1577   \n",
       "4           mataura      NZ  1634715186  -46.1927   168.8643   \n",
       "..              ...     ...         ...       ...        ...   \n",
       "637          basoko      CD  1634715939    1.2391    23.6160   \n",
       "638         dolores      AR  1634716118  -36.3132   -57.6792   \n",
       "639           bajil      YE  1634716119   15.0584    43.2851   \n",
       "640    staryy nadym      RU  1634716121   65.6118    72.6842   \n",
       "641        monrovia      LR  1634716089    6.3005   -10.7969   \n",
       "\n",
       "     Max temperature (c)  Humidity (%)  Cloudiness (%)  Wind Speed (mps)  \n",
       "0                  21.68            99             100              0.78  \n",
       "1                  18.03            54              90              0.45  \n",
       "2                  17.13            73              90              4.63  \n",
       "3                  29.10            70              82              4.92  \n",
       "4                   4.85            85               1              1.11  \n",
       "..                   ...           ...             ...               ...  \n",
       "637                22.21            90             100              1.12  \n",
       "638                10.21            94               0              2.38  \n",
       "639                34.16            42              90              3.09  \n",
       "640                 1.95            76             100              7.26  \n",
       "641                24.87            79             100              1.92  \n",
       "\n",
       "[642 rows x 9 columns]"
      ]
     },
     "execution_count": 9,
     "metadata": {},
     "output_type": "execute_result"
    }
   ],
   "source": [
    "city_df = pd.read_csv(\"cities.csv\", index_col=[0])\n",
    "city_df"
   ]
  },
  {
   "cell_type": "markdown",
   "metadata": {},
   "source": [
    "## Inspect the data and remove the cities where the humidity > 100%.\n",
    "----\n",
    "Skip this step if there are no cities that have humidity > 100%. "
   ]
  },
  {
   "cell_type": "code",
   "execution_count": 10,
   "metadata": {},
   "outputs": [
    {
     "data": {
      "text/html": [
       "<div>\n",
       "<style scoped>\n",
       "    .dataframe tbody tr th:only-of-type {\n",
       "        vertical-align: middle;\n",
       "    }\n",
       "\n",
       "    .dataframe tbody tr th {\n",
       "        vertical-align: top;\n",
       "    }\n",
       "\n",
       "    .dataframe thead th {\n",
       "        text-align: right;\n",
       "    }\n",
       "</style>\n",
       "<table border=\"1\" class=\"dataframe\">\n",
       "  <thead>\n",
       "    <tr style=\"text-align: right;\">\n",
       "      <th></th>\n",
       "      <th>City</th>\n",
       "      <th>Country</th>\n",
       "      <th>Datetime</th>\n",
       "      <th>Latitude</th>\n",
       "      <th>Longitude</th>\n",
       "      <th>Max temperature (c)</th>\n",
       "      <th>Humidity (%)</th>\n",
       "      <th>Cloudiness (%)</th>\n",
       "      <th>Wind Speed (mps)</th>\n",
       "    </tr>\n",
       "  </thead>\n",
       "  <tbody>\n",
       "  </tbody>\n",
       "</table>\n",
       "</div>"
      ],
      "text/plain": [
       "Empty DataFrame\n",
       "Columns: [City, Country, Datetime, Latitude, Longitude, Max temperature (c), Humidity (%), Cloudiness (%), Wind Speed (mps)]\n",
       "Index: []"
      ]
     },
     "execution_count": 10,
     "metadata": {},
     "output_type": "execute_result"
    }
   ],
   "source": [
    "#  Get the indices of cities that have humidity over 100%.\n",
    "city_df.loc[city_df[\"Humidity (%)\"] > 100]"
   ]
  },
  {
   "cell_type": "code",
   "execution_count": 11,
   "metadata": {},
   "outputs": [],
   "source": [
    "# Make a new DataFrame equal to the city data to drop all humidity outliers by index.\n",
    "# Passing \"inplace=False\" will make a copy of the city_data DataFrame, which we call \"clean_city_data\".\n",
    "#step not applicable as there are no cities with humidity above 100%."
   ]
  },
  {
   "cell_type": "markdown",
   "metadata": {},
   "source": [
    "## Plotting the Data\n",
    "* Use proper labeling of the plots using plot titles (including date of analysis) and axes labels.\n",
    "* Save the plotted figures as .pngs."
   ]
  },
  {
   "cell_type": "markdown",
   "metadata": {},
   "source": [
    "## Latitude vs. Temperature Plot"
   ]
  },
  {
   "cell_type": "code",
   "execution_count": 96,
   "metadata": {
    "scrolled": true
   },
   "outputs": [
    {
     "data": {
      "image/png": "[encoded data removed]",
      "text/plain": [
       "<Figure size 432x288 with 1 Axes>"
      ]
     },
     "metadata": {
      "needs_background": "light"
     },
     "output_type": "display_data"
    }
   ],
   "source": [
    "plt.scatter(city_df[\"Latitude\"], city_df[\"Max temperature (c)\"])\n",
    "plt.title(\"Latitude vs Temperature\")\n",
    "plt.xlabel(\"Latitude\")\n",
    "plt.ylabel(\"Max temperature (c)\")\n",
    "plt.savefig(\"latitude_vs_temperature.png\")\n",
    "plt.show()"
   ]
  },
  {
   "cell_type": "markdown",
   "metadata": {},
   "source": [
    "## Latitude vs. Humidity Plot"
   ]
  },
  {
   "cell_type": "code",
   "execution_count": 97,
   "metadata": {},
   "outputs": [
    {
     "data": {
      "image/png": "[encoded data removed]",
      "text/plain": [
       "<Figure size 432x288 with 1 Axes>"
      ]
     },
     "metadata": {
      "needs_background": "light"
     },
     "output_type": "display_data"
    }
   ],
   "source": [
    "plt.scatter(city_df[\"Latitude\"], city_df[\"Humidity (%)\"])\n",
    "plt.title(\"Latitude vs Humidity\")\n",
    "plt.xlabel(\"Latitude\")\n",
    "plt.ylabel(\"Humidity (%)\")\n",
    "plt.savefig(\"latitude_vs_humidity.png\")\n",
    "plt.show()"
   ]
  },
  {
   "cell_type": "markdown",
   "metadata": {},
   "source": [
    "## Latitude vs. Cloudiness Plot"
   ]
  },
  {
   "cell_type": "code",
   "execution_count": 98,
   "metadata": {},
   "outputs": [
    {
     "data": {
      "image/png": "[encoded data removed]",
      "text/plain": [
       "<Figure size 432x288 with 1 Axes>"
      ]
     },
     "metadata": {
      "needs_background": "light"
     },
     "output_type": "display_data"
    }
   ],
   "source": [
    "plt.scatter(city_df[\"Latitude\"], city_df[\"Cloudiness (%)\"])\n",
    "plt.title(\"Latitude vs Cloudiness\")\n",
    "plt.xlabel(\"Latitude\")\n",
    "plt.ylabel(\"Cloudiness (%)\")\n",
    "plt.savefig(\"lat_vs_cloudiness.png\")\n",
    "plt.show()"
   ]
  },
  {
   "cell_type": "markdown",
   "metadata": {},
   "source": [
    "## Latitude vs. Wind Speed Plot"
   ]
  },
  {
   "cell_type": "code",
   "execution_count": 99,
   "metadata": {},
   "outputs": [
    {
     "data": {
      "image/png": "[encoded data removed]",
      "text/plain": [
       "<Figure size 432x288 with 1 Axes>"
      ]
     },
     "metadata": {
      "needs_background": "light"
     },
     "output_type": "display_data"
    }
   ],
   "source": [
    "plt.scatter(city_df[\"Latitude\"], city_df[\"Wind Speed (mps)\"])\n",
    "plt.title(\"Latitude vs Wind Speed\")\n",
    "plt.xlabel(\"Latitude\")\n",
    "plt.ylabel(\"Wind Speed (mps)\")\n",
    "plt.savefig(\"lat_vs_windspeed.png\")\n",
    "plt.show()"
   ]
  },
  {
   "cell_type": "markdown",
   "metadata": {},
   "source": [
    "## Linear Regression"
   ]
  },
  {
   "cell_type": "code",
   "execution_count": 14,
   "metadata": {},
   "outputs": [],
   "source": [
    "from scipy.stats import linregress\n",
    "northern_hemisphere = city_df.loc[city_df[\"Latitude\"]>=0]\n",
    "southern_hemisphere = city_df.loc[city_df[\"Latitude\"]<0]"
   ]
  },
  {
   "cell_type": "markdown",
   "metadata": {},
   "source": [
    "####  Northern Hemisphere - Max Temp vs. Latitude Linear Regression"
   ]
  },
  {
   "cell_type": "code",
   "execution_count": 125,
   "metadata": {},
   "outputs": [
    {
     "data": {
      "image/png": "[encoded data removed]",
      "text/plain": [
       "<Figure size 432x288 with 1 Axes>"
      ]
     },
     "metadata": {
      "needs_background": "light"
     },
     "output_type": "display_data"
    }
   ],
   "source": [
    "plt.scatter(northern_hemisphere[\"Latitude\"], northern_hemisphere[\"Max temperature (c)\"])\n",
    "plt.title(\"Northern Hemisphere - Latitude vs Temperature\")\n",
    "plt.xlabel(\"Latitude\")\n",
    "plt.ylabel(\"Max temperature (c)\")\n",
    "(slope, intercept, rvalue, pvalue, stderr) = linregress(northern_hemisphere[\"Latitude\"], northern_hemisphere[\"Max temperature (c)\"])\n",
    "line_eq = \"y = \" + str(round(slope,2)) + \"x + \" + str(round(intercept,2))\n",
    "regress_values = northern_hemisphere[\"Latitude\"] * slope + intercept\n",
    "plt.annotate(line_eq, (50,30), color = \"red\")\n",
    "plt.plot(northern_hemisphere[\"Latitude\"], regress_values, \"r-\")\n",
    "plt.savefig(\"north_latitude_vs_temperature.png\")\n",
    "plt.show()"
   ]
  },
  {
   "cell_type": "markdown",
   "metadata": {},
   "source": [
    "####  Southern Hemisphere - Max Temp vs. Latitude Linear Regression"
   ]
  },
  {
   "cell_type": "code",
   "execution_count": 127,
   "metadata": {},
   "outputs": [
    {
     "data": {
      "image/png": "[encoded data removed]",
      "text/plain": [
       "<Figure size 432x288 with 1 Axes>"
      ]
     },
     "metadata": {
      "needs_background": "light"
     },
     "output_type": "display_data"
    }
   ],
   "source": [
    "plt.scatter(southern_hemisphere[\"Latitude\"], southern_hemisphere[\"Max temperature (c)\"])\n",
    "plt.title(\"Southern Hemisphere - Latitude vs Temperature\")\n",
    "plt.xlabel(\"Latitude\")\n",
    "plt.ylabel(\"Max temperature (c)\")\n",
    "(slope, intercept, rvalue, pvalue, stderr) = linregress(southern_hemisphere[\"Latitude\"], southern_hemisphere[\"Max temperature (c)\"])\n",
    "line_eq = \"y = \" + str(round(slope,2)) + \"x + \" + str(round(intercept,2))\n",
    "regress_values = southern_hemisphere[\"Latitude\"] * slope + intercept\n",
    "plt.annotate(line_eq, (-50,30), color = \"red\")\n",
    "plt.plot(southern_hemisphere[\"Latitude\"], regress_values, \"r-\")\n",
    "plt.savefig(\"south_latitude_vs_temperature.png\")\n",
    "plt.show()"
   ]
  },
  {
   "cell_type": "markdown",
   "metadata": {},
   "source": [
    "####  Northern Hemisphere - Humidity (%) vs. Latitude Linear Regression"
   ]
  },
  {
   "cell_type": "code",
   "execution_count": 130,
   "metadata": {},
   "outputs": [
    {
     "data": {
      "image/png": "[encoded data removed]",
      "text/plain": [
       "<Figure size 432x288 with 1 Axes>"
      ]
     },
     "metadata": {
      "needs_background": "light"
     },
     "output_type": "display_data"
    }
   ],
   "source": [
    "plt.scatter(northern_hemisphere[\"Latitude\"], northern_hemisphere[\"Humidity (%)\"])\n",
    "plt.title(\"Northern Hemisphere - Latitude vs Humidity\")\n",
    "plt.xlabel(\"Latitude\")\n",
    "plt.ylabel(\"Humidity (%)\")\n",
    "(slope, intercept, rvalue, pvalue, stderr) = linregress(northern_hemisphere[\"Latitude\"], northern_hemisphere[\"Humidity (%)\"])\n",
    "line_eq = \"y = \" + str(round(slope,2)) + \"x + \" + str(round(intercept,2))\n",
    "regress_values = northern_hemisphere[\"Latitude\"] * slope + intercept\n",
    "plt.annotate(line_eq, (50,15), color = \"red\")\n",
    "plt.plot(northern_hemisphere[\"Latitude\"], regress_values, \"r-\")\n",
    "plt.savefig(\"north_latitude_vs_humidity.png\")\n",
    "plt.show()"
   ]
  },
  {
   "cell_type": "markdown",
   "metadata": {},
   "source": [
    "####  Southern Hemisphere - Humidity (%) vs. Latitude Linear Regression"
   ]
  },
  {
   "cell_type": "code",
   "execution_count": 133,
   "metadata": {},
   "outputs": [
    {
     "data": {
      "image/png": "[encoded data removed]",
      "text/plain": [
       "<Figure size 432x288 with 1 Axes>"
      ]
     },
     "metadata": {
      "needs_background": "light"
     },
     "output_type": "display_data"
    }
   ],
   "source": [
    "plt.scatter(southern_hemisphere[\"Latitude\"], southern_hemisphere[\"Humidity (%)\"])\n",
    "plt.title(\"Southern Hemisphere - Latitude vs Humidity\")\n",
    "plt.xlabel(\"Latitude\")\n",
    "plt.ylabel(\"Humidity (%)\")\n",
    "(slope, intercept, rvalue, pvalue, stderr) = linregress(southern_hemisphere[\"Latitude\"], southern_hemisphere[\"Humidity (%)\"])\n",
    "line_eq = \"y = \" + str(round(slope,2)) + \"x + \" + str(round(intercept,2))\n",
    "regress_values = southern_hemisphere[\"Latitude\"] * slope + intercept\n",
    "plt.annotate(line_eq, (-55,20), color = \"red\")\n",
    "plt.plot(southern_hemisphere[\"Latitude\"], regress_values, \"r-\")\n",
    "plt.savefig(\"south_latitude_vs_humidity.png\")\n",
    "plt.show()"
   ]
  },
  {
   "cell_type": "markdown",
   "metadata": {},
   "source": [
    "####  Northern Hemisphere - Cloudiness (%) vs. Latitude Linear Regression"
   ]
  },
  {
   "cell_type": "code",
   "execution_count": 22,
   "metadata": {},
   "outputs": [
    {
     "data": {
      "image/png": "[encoded data removed]",
      "text/plain": [
       "<Figure size 432x288 with 1 Axes>"
      ]
     },
     "metadata": {
      "needs_background": "light"
     },
     "output_type": "display_data"
    }
   ],
   "source": [
    "plt.scatter(northern_hemisphere[\"Latitude\"], northern_hemisphere[\"Cloudiness (%)\"])\n",
    "plt.title(\"Northern Hemisphere - Latitude vs Cloudiness\")\n",
    "plt.xlabel(\"Latitude\")\n",
    "plt.ylabel(\"Cloudiness (%)\")\n",
    "(slope, intercept, rvalue, pvalue, stderr) = linregress(northern_hemisphere[\"Latitude\"], northern_hemisphere[\"Cloudiness (%)\"])\n",
    "line_eq = \"y = \" + str(round(slope,2)) + \"x + \" + str(round(intercept,2))\n",
    "regress_values = northern_hemisphere[\"Latitude\"] * slope + intercept\n",
    "plt.annotate(line_eq, (35, 65), color = \"red\")\n",
    "plt.plot(northern_hemisphere[\"Latitude\"], regress_values, \"r-\")\n",
    "plt.savefig(\"north_latitude_vs_cloudiness.png\")\n",
    "plt.show()"
   ]
  },
  {
   "cell_type": "markdown",
   "metadata": {},
   "source": [
    "####  Southern Hemisphere - Cloudiness (%) vs. Latitude Linear Regression"
   ]
  },
  {
   "cell_type": "code",
   "execution_count": 25,
   "metadata": {},
   "outputs": [
    {
     "data": {
      "image/png": "[encoded data removed]",
      "text/plain": [
       "<Figure size 432x288 with 1 Axes>"
      ]
     },
     "metadata": {
      "needs_background": "light"
     },
     "output_type": "display_data"
    }
   ],
   "source": [
    "plt.scatter(southern_hemisphere[\"Latitude\"], southern_hemisphere[\"Cloudiness (%)\"])\n",
    "plt.title(\"Southern Hemisphere - Latitude vs Cloudiness\")\n",
    "plt.xlabel(\"Latitude\")\n",
    "plt.ylabel(\"Cloudiness (%)\")\n",
    "(slope, intercept, rvalue, pvalue, stderr) = linregress(southern_hemisphere[\"Latitude\"], southern_hemisphere[\"Cloudiness (%)\"])\n",
    "line_eq = \"y = \" + str(round(slope,2)) + \"x + \" + str(round(intercept,2))\n",
    "regress_values = southern_hemisphere[\"Latitude\"] * slope + intercept\n",
    "plt.annotate(line_eq, (-50, 40), color = \"red\")\n",
    "plt.plot(southern_hemisphere[\"Latitude\"], regress_values, \"r-\")\n",
    "plt.savefig(\"south_latitude_vs_cloudiness.png\")\n",
    "plt.show()"
   ]
  },
  {
   "cell_type": "markdown",
   "metadata": {},
   "source": [
    "####  Northern Hemisphere - Wind Speed (mph) vs. Latitude Linear Regression"
   ]
  },
  {
   "cell_type": "code",
   "execution_count": 27,
   "metadata": {},
   "outputs": [
    {
     "data": {
      "image/png": "[encoded data removed]",
      "text/plain": [
       "<Figure size 432x288 with 1 Axes>"
      ]
     },
     "metadata": {
      "needs_background": "light"
     },
     "output_type": "display_data"
    }
   ],
   "source": [
    "plt.scatter(northern_hemisphere[\"Latitude\"], northern_hemisphere[\"Wind Speed (mps)\"])\n",
    "plt.title(\"Northern Hemisphere - Latitude vs Wind Speed\")\n",
    "plt.xlabel(\"Latitude\")\n",
    "plt.ylabel(\"Wind Speed (mps)\")\n",
    "(slope, intercept, rvalue, pvalue, stderr) = linregress(northern_hemisphere[\"Latitude\"], northern_hemisphere[\"Wind Speed (mps)\"])\n",
    "line_eq = \"y = \" + str(round(slope,2)) + \"x + \" + str(round(intercept,2))\n",
    "regress_values = northern_hemisphere[\"Latitude\"] * slope + intercept\n",
    "plt.annotate(line_eq, (20,10), color = \"red\")\n",
    "plt.plot(northern_hemisphere[\"Latitude\"], regress_values, \"r-\")\n",
    "plt.savefig(\"north_latitude_vs_windspeed.png\")\n",
    "plt.show()"
   ]
  },
  {
   "cell_type": "markdown",
   "metadata": {},
   "source": [
    "####  Southern Hemisphere - Wind Speed (mph) vs. Latitude Linear Regression"
   ]
  },
  {
   "cell_type": "code",
   "execution_count": 32,
   "metadata": {},
   "outputs": [
    {
     "data": {
      "image/png": "[encoded data removed]",
      "text/plain": [
       "<Figure size 432x288 with 1 Axes>"
      ]
     },
     "metadata": {
      "needs_background": "light"
     },
     "output_type": "display_data"
    }
   ],
   "source": [
    "plt.scatter(southern_hemisphere[\"Latitude\"], southern_hemisphere[\"Wind Speed (mps)\"])\n",
    "plt.title(\"Southern Hemisphere - Latitude vs Wind Speed\")\n",
    "plt.xlabel(\"Latitude\")\n",
    "plt.ylabel(\"Wind Speed (mps)\")\n",
    "(slope, intercept, rvalue, pvalue, stderr) = linregress(southern_hemisphere[\"Latitude\"], southern_hemisphere[\"Wind Speed (mps)\"])\n",
    "line_eq = \"y = \" + str(round(slope,2)) + \"x + \" + str(round(intercept,2))\n",
    "regress_values = southern_hemisphere[\"Latitude\"] * slope + intercept\n",
    "plt.annotate(line_eq, (-40, 6), color = \"red\")\n",
    "plt.plot(southern_hemisphere[\"Latitude\"], regress_values, \"r-\")\n",
    "plt.savefig(\"south_latitude_vs_windspeed.png\")\n",
    "plt.show()"
   ]
  },
  {
   "cell_type": "markdown",
   "metadata": {},
   "source": [
    "# Observable trends\n",
    "1. There is a strong correlation between latitude and temperature; the closer to latitude 0 you are, the higher the temperature. This is consistent with our understanding that the equator is closer to the sun, and therefore more hot.\n",
    "2. There is no correlation between latitude and humidity. This is because humidity is more dependent on climate. \n",
    "3. There is no correlation between latitude and cloudiness. This is because cloudiness is more dependent on the season."
   ]
  },
  {
   "cell_type": "code",
   "execution_count": null,
   "metadata": {},
   "outputs": [],
   "source": []
  }
 ],
 "metadata": {
  "anaconda-cloud": {},
  "kernel_info": {
   "name": "python3"
  },
  "kernelspec": {
   "display_name": "Python [conda env:PythonData] *",
   "language": "python",
   "name": "conda-env-PythonData-py"
  },
  "language_info": {
   "codemirror_mode": {
    "name": "ipython",
    "version": 3
   },
   "file_extension": ".py",
   "mimetype": "text/x-python",
   "name": "python",
   "nbconvert_exporter": "python",
   "pygments_lexer": "ipython3",
   "version": "3.7.11"
  },
  "latex_envs": {
   "LaTeX_envs_menu_present": true,
   "autoclose": false,
   "autocomplete": true,
   "bibliofile": "biblio.bib",
   "cite_by": "apalike",
   "current_citInitial": 1,
   "eqLabelWithNumbers": true,
   "eqNumInitial": 1,
   "hotkeys": {
    "equation": "Ctrl-E",
    "itemize": "Ctrl-I"
   },
   "labels_anchors": false,
   "latex_user_defs": false,
   "report_style_numbering": false,
   "user_envs_cfg": false
  },
  "nteract": {
   "version": "0.12.3"
  }
 },
 "nbformat": 4,
 "nbformat_minor": 2
}
